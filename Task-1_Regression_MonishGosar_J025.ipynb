{
 "cells": [
  {
   "cell_type": "markdown",
   "id": "27a3e4be-0df3-48bf-b837-d7f1a9e2ff66",
   "metadata": {},
   "source": [
    "# Regression Task - Dress Rental Prices\n",
    "\n",
    "# ***Monish Gosar - J025***"
   ]
  },
  {
   "cell_type": "code",
   "execution_count": 46,
   "id": "28bc06ff-c2a4-481d-bcef-e5d69c451475",
   "metadata": {
    "tags": []
   },
   "outputs": [],
   "source": [
    "import pandas as pd\n",
    "import numpy as np\n",
    "from sklearn.model_selection import train_test_split\n",
    "from sklearn.metrics import mean_squared_error, r2_score\n",
    "\n",
    "from sklearn.model_selection import train_test_split\n",
    "from sklearn.preprocessing import OneHotEncoder, StandardScaler\n",
    "from tensorflow.keras.models import Sequential\n",
    "from tensorflow.keras.layers import Dense\n",
    "import matplotlib.pyplot as plt\n",
    "import seaborn as sns\n",
    "import warnings\n",
    "warnings.filterwarnings('ignore')"
   ]
  },
  {
   "cell_type": "code",
   "execution_count": 47,
   "id": "16023ccb-77b3-4b59-b318-ef9c84df9c51",
   "metadata": {
    "tags": []
   },
   "outputs": [
    {
     "data": {
      "text/html": [
       "<div>\n",
       "<style scoped>\n",
       "    .dataframe tbody tr th:only-of-type {\n",
       "        vertical-align: middle;\n",
       "    }\n",
       "\n",
       "    .dataframe tbody tr th {\n",
       "        vertical-align: top;\n",
       "    }\n",
       "\n",
       "    .dataframe thead th {\n",
       "        text-align: right;\n",
       "    }\n",
       "</style>\n",
       "<table border=\"1\" class=\"dataframe\">\n",
       "  <thead>\n",
       "    <tr style=\"text-align: right;\">\n",
       "      <th></th>\n",
       "      <th>ID</th>\n",
       "      <th>Name</th>\n",
       "      <th>Brand</th>\n",
       "      <th>Colour</th>\n",
       "      <th>Catagories</th>\n",
       "      <th>Price</th>\n",
       "    </tr>\n",
       "  </thead>\n",
       "  <tbody>\n",
       "    <tr>\n",
       "      <th>0</th>\n",
       "      <td>74416</td>\n",
       "      <td>Runway stripe dress</td>\n",
       "      <td>Stella McCartney</td>\n",
       "      <td>beige</td>\n",
       "      <td>dresses</td>\n",
       "      <td>111</td>\n",
       "    </tr>\n",
       "    <tr>\n",
       "      <th>1</th>\n",
       "      <td>73815</td>\n",
       "      <td>Reformation Kourtney Dress</td>\n",
       "      <td>Reformation</td>\n",
       "      <td>beige</td>\n",
       "      <td>dresses</td>\n",
       "      <td>50</td>\n",
       "    </tr>\n",
       "    <tr>\n",
       "      <th>2</th>\n",
       "      <td>73801</td>\n",
       "      <td>Ivory Viola bridal dress</td>\n",
       "      <td>Ghost</td>\n",
       "      <td>beige</td>\n",
       "      <td>dresses</td>\n",
       "      <td>75</td>\n",
       "    </tr>\n",
       "    <tr>\n",
       "      <th>3</th>\n",
       "      <td>73718</td>\n",
       "      <td>Pasu Dress - Rhino Tusk</td>\n",
       "      <td>Coucoo</td>\n",
       "      <td>beige</td>\n",
       "      <td>dresses</td>\n",
       "      <td>37</td>\n",
       "    </tr>\n",
       "    <tr>\n",
       "      <th>4</th>\n",
       "      <td>73605</td>\n",
       "      <td>Ellen</td>\n",
       "      <td>RIXO</td>\n",
       "      <td>beige</td>\n",
       "      <td>dresses</td>\n",
       "      <td>47</td>\n",
       "    </tr>\n",
       "  </tbody>\n",
       "</table>\n",
       "</div>"
      ],
      "text/plain": [
       "      ID                        Name             Brand Colour Catagories  \\\n",
       "0  74416         Runway stripe dress  Stella McCartney  beige    dresses   \n",
       "1  73815  Reformation Kourtney Dress       Reformation  beige    dresses   \n",
       "2  73801    Ivory Viola bridal dress             Ghost  beige    dresses   \n",
       "3  73718     Pasu Dress - Rhino Tusk            Coucoo  beige    dresses   \n",
       "4  73605                       Ellen              RIXO  beige    dresses   \n",
       "\n",
       "   Price  \n",
       "0    111  \n",
       "1     50  \n",
       "2     75  \n",
       "3     37  \n",
       "4     47  "
      ]
     },
     "execution_count": 47,
     "metadata": {},
     "output_type": "execute_result"
    }
   ],
   "source": [
    "df = pd.read_csv('dress_rental_prices.csv',index_col=0)\n",
    "df.head()"
   ]
  },
  {
   "cell_type": "code",
   "execution_count": 48,
   "id": "ae2c29fe-7dd6-4eef-8580-95c2558e80ef",
   "metadata": {
    "tags": []
   },
   "outputs": [
    {
     "data": {
      "text/plain": [
       "array(['dresses', nan, 'dresses, midi', ...,\n",
       "       'dresses, Vinyl-PVC-Synthetics, Smart, Formal, Winter, Seasonal, mini, V-Necks',\n",
       "       'dresses, Cotton-Jersey, Tie-Front, Skinny-Fit, Smart, Formal, Summer, midi, Pencil, Monochrome',\n",
       "       'dresses, Wool-Cashmere, Horizontal Stripe, Casual, Winter, mini, Short Sleeve'],\n",
       "      dtype=object)"
      ]
     },
     "execution_count": 48,
     "metadata": {},
     "output_type": "execute_result"
    }
   ],
   "source": [
    "df.Catagories.unique()"
   ]
  },
  {
   "cell_type": "code",
   "execution_count": 52,
   "id": "3c144012-2842-4626-9de3-75a78d13fa74",
   "metadata": {
    "tags": []
   },
   "outputs": [
    {
     "data": {
      "text/plain": [
       "ID              0\n",
       "Name            2\n",
       "Brand           0\n",
       "Colour          0\n",
       "Catagories    114\n",
       "Price           0\n",
       "dtype: int64"
      ]
     },
     "execution_count": 52,
     "metadata": {},
     "output_type": "execute_result"
    }
   ],
   "source": [
    "df.isna().sum()"
   ]
  },
  {
   "cell_type": "code",
   "execution_count": 54,
   "id": "c1ad0918-ca1b-4f14-b24b-efb965cd05e1",
   "metadata": {
    "tags": []
   },
   "outputs": [
    {
     "data": {
      "text/html": [
       "<div>\n",
       "<style scoped>\n",
       "    .dataframe tbody tr th:only-of-type {\n",
       "        vertical-align: middle;\n",
       "    }\n",
       "\n",
       "    .dataframe tbody tr th {\n",
       "        vertical-align: top;\n",
       "    }\n",
       "\n",
       "    .dataframe thead th {\n",
       "        text-align: right;\n",
       "    }\n",
       "</style>\n",
       "<table border=\"1\" class=\"dataframe\">\n",
       "  <thead>\n",
       "    <tr style=\"text-align: right;\">\n",
       "      <th></th>\n",
       "      <th>ID</th>\n",
       "      <th>Name</th>\n",
       "      <th>Brand</th>\n",
       "      <th>Colour</th>\n",
       "      <th>Catagories</th>\n",
       "      <th>Price</th>\n",
       "    </tr>\n",
       "  </thead>\n",
       "  <tbody>\n",
       "    <tr>\n",
       "      <th>0</th>\n",
       "      <td>74416</td>\n",
       "      <td>Runway stripe dress</td>\n",
       "      <td>Stella McCartney</td>\n",
       "      <td>beige</td>\n",
       "      <td>dresses</td>\n",
       "      <td>111</td>\n",
       "    </tr>\n",
       "    <tr>\n",
       "      <th>1</th>\n",
       "      <td>73815</td>\n",
       "      <td>Reformation Kourtney Dress</td>\n",
       "      <td>Reformation</td>\n",
       "      <td>beige</td>\n",
       "      <td>dresses</td>\n",
       "      <td>50</td>\n",
       "    </tr>\n",
       "    <tr>\n",
       "      <th>2</th>\n",
       "      <td>73801</td>\n",
       "      <td>Ivory Viola bridal dress</td>\n",
       "      <td>Ghost</td>\n",
       "      <td>beige</td>\n",
       "      <td>dresses</td>\n",
       "      <td>75</td>\n",
       "    </tr>\n",
       "    <tr>\n",
       "      <th>3</th>\n",
       "      <td>73718</td>\n",
       "      <td>Pasu Dress - Rhino Tusk</td>\n",
       "      <td>Coucoo</td>\n",
       "      <td>beige</td>\n",
       "      <td>dresses</td>\n",
       "      <td>37</td>\n",
       "    </tr>\n",
       "    <tr>\n",
       "      <th>4</th>\n",
       "      <td>73605</td>\n",
       "      <td>Ellen</td>\n",
       "      <td>RIXO</td>\n",
       "      <td>beige</td>\n",
       "      <td>dresses</td>\n",
       "      <td>47</td>\n",
       "    </tr>\n",
       "  </tbody>\n",
       "</table>\n",
       "</div>"
      ],
      "text/plain": [
       "      ID                        Name             Brand Colour Catagories  \\\n",
       "0  74416         Runway stripe dress  Stella McCartney  beige    dresses   \n",
       "1  73815  Reformation Kourtney Dress       Reformation  beige    dresses   \n",
       "2  73801    Ivory Viola bridal dress             Ghost  beige    dresses   \n",
       "3  73718     Pasu Dress - Rhino Tusk            Coucoo  beige    dresses   \n",
       "4  73605                       Ellen              RIXO  beige    dresses   \n",
       "\n",
       "   Price  \n",
       "0    111  \n",
       "1     50  \n",
       "2     75  \n",
       "3     37  \n",
       "4     47  "
      ]
     },
     "execution_count": 54,
     "metadata": {},
     "output_type": "execute_result"
    }
   ],
   "source": [
    "df.head()"
   ]
  },
  {
   "cell_type": "code",
   "execution_count": 56,
   "id": "3cb94fe2-e83d-4ac7-a037-ef2d98163f73",
   "metadata": {
    "tags": []
   },
   "outputs": [],
   "source": [
    "df.dropna(inplace=True)"
   ]
  },
  {
   "cell_type": "code",
   "execution_count": 58,
   "id": "ef65b5a4-f7c0-43f7-9d11-0f215bf9605b",
   "metadata": {
    "tags": []
   },
   "outputs": [
    {
     "data": {
      "text/plain": [
       "count    29881.000000\n",
       "mean        61.656203\n",
       "std         38.149908\n",
       "min         11.000000\n",
       "25%         40.000000\n",
       "50%         51.000000\n",
       "75%         69.000000\n",
       "max        793.000000\n",
       "Name: Price, dtype: float64"
      ]
     },
     "execution_count": 58,
     "metadata": {},
     "output_type": "execute_result"
    }
   ],
   "source": [
    "df['Price'].describe()"
   ]
  },
  {
   "cell_type": "code",
   "execution_count": 60,
   "id": "c718dda1-6778-4a9b-ada7-fb60b52474f3",
   "metadata": {
    "tags": []
   },
   "outputs": [
    {
     "data": {
      "image/png": "[encoded data removed]",
      "text/plain": [
       "<Figure size 1000x600 with 1 Axes>"
      ]
     },
     "metadata": {},
     "output_type": "display_data"
    }
   ],
   "source": [
    "plt.figure(figsize=(10, 6))\n",
    "sns.histplot(df['Price'], bins=50,kde=True)\n",
    "plt.title('Distribution of Dress Rental Prices')\n",
    "plt.xlabel('Price')\n",
    "plt.ylabel('Frequency')\n",
    "plt.show()"
   ]
  },
  {
   "cell_type": "code",
   "execution_count": 62,
   "id": "ff2e36ef-38d1-474c-987e-b4dbf90a6a3d",
   "metadata": {
    "tags": []
   },
   "outputs": [
    {
     "name": "stdout",
     "output_type": "stream",
     "text": [
      "<class 'pandas.core.frame.DataFrame'>\n",
      "Index: 29881 entries, 0 to 29996\n",
      "Data columns (total 6 columns):\n",
      " #   Column      Non-Null Count  Dtype \n",
      "---  ------      --------------  ----- \n",
      " 0   ID          29881 non-null  int64 \n",
      " 1   Name        29881 non-null  object\n",
      " 2   Brand       29881 non-null  object\n",
      " 3   Colour      29881 non-null  object\n",
      " 4   Catagories  29881 non-null  object\n",
      " 5   Price       29881 non-null  int64 \n",
      "dtypes: int64(2), object(4)\n",
      "memory usage: 1.6+ MB\n"
     ]
    }
   ],
   "source": [
    "df.info()"
   ]
  },
  {
   "cell_type": "code",
   "execution_count": 64,
   "id": "94e486f1-3e7c-4574-8a11-eba94667c2fd",
   "metadata": {
    "tags": []
   },
   "outputs": [],
   "source": [
    "encoder = OneHotEncoder(sparse=False, handle_unknown='ignore')\n",
    "categories_encoded = encoder.fit_transform(df['Catagories'].values.reshape(-1, 1))"
   ]
  },
  {
   "cell_type": "code",
   "execution_count": 68,
   "id": "870db114-1d72-47a5-adab-6fc43800a6b8",
   "metadata": {
    "tags": []
   },
   "outputs": [],
   "source": [
    "X = df[['Brand', 'Colour', 'Price']].copy()\n",
    "X = pd.get_dummies(X, columns=['Brand', 'Colour'])\n",
    "X = np.hstack((X, categories_encoded))"
   ]
  },
  {
   "cell_type": "code",
   "execution_count": 70,
   "id": "e8b04802-b9a8-4658-96a3-7f3f374eb69e",
   "metadata": {
    "tags": []
   },
   "outputs": [],
   "source": [
    "y = df['Price']  "
   ]
  },
  {
   "cell_type": "code",
   "execution_count": 72,
   "id": "f1ec5ab9-e777-41cb-b09e-e5f3fc34c6fc",
   "metadata": {
    "tags": []
   },
   "outputs": [],
   "source": [
    "X_train, X_test, y_train, y_test = train_test_split(X, y, test_size=0.2, random_state=42)"
   ]
  },
  {
   "cell_type": "code",
   "execution_count": 73,
   "id": "d3d53bbb-4395-43d3-97aa-2e5b5bb35452",
   "metadata": {
    "tags": []
   },
   "outputs": [],
   "source": [
    "scaler = StandardScaler()\n",
    "X_train_scaled = scaler.fit_transform(X_train)\n",
    "X_test_scaled = scaler.transform(X_test)"
   ]
  },
  {
   "cell_type": "code",
   "execution_count": 76,
   "id": "7e5885b8-730b-4410-bb0c-63f7fb23c537",
   "metadata": {
    "tags": []
   },
   "outputs": [],
   "source": [
    "model = Sequential([\n",
    "    Dense(64, activation='relu', input_shape=(X_train_scaled.shape[1],)),\n",
    "    Dense(32, activation='relu'),\n",
    "    Dense(16, activation='relu'),\n",
    "    Dense(1)\n",
    "])\n",
    "\n",
    "model.compile(optimizer='adam', loss='mean_squared_error')"
   ]
  },
  {
   "cell_type": "code",
   "execution_count": 78,
   "id": "8eb80108-cd79-42f4-bc2a-28cda7148808",
   "metadata": {
    "tags": []
   },
   "outputs": [],
   "source": [
    "history = model.fit(X_train_scaled, y_train, validation_split=0.2, epochs=10, batch_size=32, verbose=0)"
   ]
  },
  {
   "cell_type": "code",
   "execution_count": 79,
   "id": "6af28f57-5de9-4f38-85f5-64e9ed3c0e76",
   "metadata": {
    "tags": []
   },
   "outputs": [],
   "source": [
    "train_loss = model.evaluate(X_train_scaled, y_train, verbose=0)\n",
    "test_loss = model.evaluate(X_test_scaled, y_test, verbose=0)"
   ]
  },
  {
   "cell_type": "code",
   "execution_count": 80,
   "id": "b8d2f368-9148-4b10-b4c9-11162b23420e",
   "metadata": {
    "tags": []
   },
   "outputs": [
    {
     "name": "stdout",
     "output_type": "stream",
     "text": [
      "Train MSE: 90.5358\n",
      "Test MSE: 92.8742\n"
     ]
    }
   ],
   "source": [
    "print(f\"Train MSE: {train_loss:.4f}\")\n",
    "print(f\"Test MSE: {test_loss:.4f}\")"
   ]
  },
  {
   "cell_type": "code",
   "execution_count": 81,
   "id": "54ac4d5a-3d45-4e29-a01f-306a1805e27f",
   "metadata": {
    "tags": []
   },
   "outputs": [
    {
     "data": {
      "image/png": "[encoded data removed]",
      "text/plain": [
       "<Figure size 1000x600 with 1 Axes>"
      ]
     },
     "metadata": {},
     "output_type": "display_data"
    }
   ],
   "source": [
    "plt.figure(figsize=(10, 6))\n",
    "plt.plot(history.history['loss'], label='Training Loss')\n",
    "plt.plot(history.history['val_loss'], label='Validation Loss')\n",
    "plt.title('Model Loss')\n",
    "plt.ylabel('Loss')\n",
    "plt.xlabel('Epoch')\n",
    "plt.legend()\n",
    "plt.show()"
   ]
  },
  {
   "cell_type": "code",
   "execution_count": null,
   "id": "64aa6b15-7543-4f24-9c8f-f37f2470305d",
   "metadata": {},
   "outputs": [],
   "source": []
  },
  {
   "cell_type": "code",
   "execution_count": null,
   "id": "2e97ddf6-7384-4610-aedf-36a3f00b233b",
   "metadata": {},
   "outputs": [],
   "source": []
  }
 ],
 "metadata": {
  "kernelspec": {
   "display_name": "Python 3 (ipykernel)",
   "language": "python",
   "name": "python3"
  },
  "language_info": {
   "codemirror_mode": {
    "name": "ipython",
    "version": 3
   },
   "file_extension": ".py",
   "mimetype": "text/x-python",
   "name": "python",
   "nbconvert_exporter": "python",
   "pygments_lexer": "ipython3",
   "version": "3.11.7"
  }
 },
 "nbformat": 4,
 "nbformat_minor": 5
}
